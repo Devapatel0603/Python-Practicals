{
 "cells": [
  {
   "cell_type": "code",
   "execution_count": 2,
   "id": "e1a98a3c",
   "metadata": {},
   "outputs": [],
   "source": [
    "import pandas as pd"
   ]
  },
  {
   "cell_type": "code",
   "execution_count": 4,
   "id": "5a753e3e",
   "metadata": {},
   "outputs": [],
   "source": [
    "df = pd.read_csv(\"mca_gujarat_21042018[1].csv\", encoding=\"ISO-8859-1\")"
   ]
  },
  {
   "cell_type": "code",
   "execution_count": 5,
   "id": "432cf2a3",
   "metadata": {},
   "outputs": [
    {
     "data": {
      "text/html": [
       "<div>\n",
       "<style scoped>\n",
       "    .dataframe tbody tr th:only-of-type {\n",
       "        vertical-align: middle;\n",
       "    }\n",
       "\n",
       "    .dataframe tbody tr th {\n",
       "        vertical-align: top;\n",
       "    }\n",
       "\n",
       "    .dataframe thead th {\n",
       "        text-align: right;\n",
       "    }\n",
       "</style>\n",
       "<table border=\"1\" class=\"dataframe\">\n",
       "  <thead>\n",
       "    <tr style=\"text-align: right;\">\n",
       "      <th></th>\n",
       "      <th>AUTHORIZED_CAP</th>\n",
       "      <th>PAIDUP_CAPITAL</th>\n",
       "    </tr>\n",
       "  </thead>\n",
       "  <tbody>\n",
       "    <tr>\n",
       "      <th>count</th>\n",
       "      <td>9.582600e+04</td>\n",
       "      <td>9.582600e+04</td>\n",
       "    </tr>\n",
       "    <tr>\n",
       "      <th>mean</th>\n",
       "      <td>6.320206e+07</td>\n",
       "      <td>2.986657e+07</td>\n",
       "    </tr>\n",
       "    <tr>\n",
       "      <th>std</th>\n",
       "      <td>2.690387e+09</td>\n",
       "      <td>1.730888e+09</td>\n",
       "    </tr>\n",
       "    <tr>\n",
       "      <th>min</th>\n",
       "      <td>0.000000e+00</td>\n",
       "      <td>0.000000e+00</td>\n",
       "    </tr>\n",
       "    <tr>\n",
       "      <th>25%</th>\n",
       "      <td>1.000000e+05</td>\n",
       "      <td>1.000000e+05</td>\n",
       "    </tr>\n",
       "    <tr>\n",
       "      <th>50%</th>\n",
       "      <td>5.000000e+05</td>\n",
       "      <td>1.000000e+05</td>\n",
       "    </tr>\n",
       "    <tr>\n",
       "      <th>75%</th>\n",
       "      <td>2.500000e+06</td>\n",
       "      <td>1.000000e+06</td>\n",
       "    </tr>\n",
       "    <tr>\n",
       "      <th>max</th>\n",
       "      <td>6.000000e+11</td>\n",
       "      <td>4.570000e+11</td>\n",
       "    </tr>\n",
       "  </tbody>\n",
       "</table>\n",
       "</div>"
      ],
      "text/plain": [
       "       AUTHORIZED_CAP  PAIDUP_CAPITAL\n",
       "count    9.582600e+04    9.582600e+04\n",
       "mean     6.320206e+07    2.986657e+07\n",
       "std      2.690387e+09    1.730888e+09\n",
       "min      0.000000e+00    0.000000e+00\n",
       "25%      1.000000e+05    1.000000e+05\n",
       "50%      5.000000e+05    1.000000e+05\n",
       "75%      2.500000e+06    1.000000e+06\n",
       "max      6.000000e+11    4.570000e+11"
      ]
     },
     "execution_count": 5,
     "metadata": {},
     "output_type": "execute_result"
    }
   ],
   "source": [
    "df.describe()"
   ]
  },
  {
   "cell_type": "code",
   "execution_count": 6,
   "id": "2f6058aa",
   "metadata": {},
   "outputs": [
    {
     "name": "stdout",
     "output_type": "stream",
     "text": [
      "<class 'pandas.core.frame.DataFrame'>\n",
      "RangeIndex: 95826 entries, 0 to 95825\n",
      "Data columns (total 16 columns):\n",
      " #   Column                                  Non-Null Count  Dtype  \n",
      "---  ------                                  --------------  -----  \n",
      " 0   CORPORATE_IDENTIFICATION_NUMBER         95826 non-null  object \n",
      " 1   COMPANY_NAME                            95826 non-null  object \n",
      " 2   COMPANY_STATUS                          95826 non-null  object \n",
      " 3   COMPANY_CLASS                           95820 non-null  object \n",
      " 4   COMPANY_CATEGORY                        95820 non-null  object \n",
      " 5   COMPANY_SUB_CATEGORY                    95820 non-null  object \n",
      " 6   DATE_OF_REGISTRATION                    95814 non-null  object \n",
      " 7   REGISTERED_STATE                        95826 non-null  object \n",
      " 8   AUTHORIZED_CAP                          95826 non-null  float64\n",
      " 9   PAIDUP_CAPITAL                          95826 non-null  float64\n",
      " 10  INDUSTRIAL_CLASS                        95826 non-null  object \n",
      " 11  PRINCIPAL_BUSINESS_ACTIVITY_AS_PER_CIN  95826 non-null  object \n",
      " 12  REGISTRAR_OF_COMPANIES                  95491 non-null  object \n",
      " 13  EMAIL_ADDR                              72238 non-null  object \n",
      " 14  LATEST_YEAR_ANNUAL_RETURN               55908 non-null  object \n",
      " 15  LATEST_YEAR_FINANCIAL_STATEMENT         55898 non-null  object \n",
      "dtypes: float64(2), object(14)\n",
      "memory usage: 11.7+ MB\n"
     ]
    }
   ],
   "source": [
    "df.info()"
   ]
  },
  {
   "cell_type": "code",
   "execution_count": 7,
   "id": "8594c55d",
   "metadata": {},
   "outputs": [
    {
     "data": {
      "text/plain": [
       "CORPORATE_IDENTIFICATION_NUMBER               0\n",
       "COMPANY_NAME                                  0\n",
       "COMPANY_STATUS                                0\n",
       "COMPANY_CLASS                                 6\n",
       "COMPANY_CATEGORY                              6\n",
       "COMPANY_SUB_CATEGORY                          6\n",
       "DATE_OF_REGISTRATION                         12\n",
       "REGISTERED_STATE                              0\n",
       "AUTHORIZED_CAP                                0\n",
       "PAIDUP_CAPITAL                                0\n",
       "INDUSTRIAL_CLASS                              0\n",
       "PRINCIPAL_BUSINESS_ACTIVITY_AS_PER_CIN        0\n",
       "REGISTRAR_OF_COMPANIES                      335\n",
       "EMAIL_ADDR                                23588\n",
       "LATEST_YEAR_ANNUAL_RETURN                 39918\n",
       "LATEST_YEAR_FINANCIAL_STATEMENT           39928\n",
       "dtype: int64"
      ]
     },
     "execution_count": 7,
     "metadata": {},
     "output_type": "execute_result"
    }
   ],
   "source": [
    "df.isna().sum()"
   ]
  },
  {
   "cell_type": "code",
   "execution_count": 8,
   "id": "703eb552",
   "metadata": {},
   "outputs": [
    {
     "name": "stdout",
     "output_type": "stream",
     "text": [
      "CORPORATE_IDENTIFICATION_NUMBER               0\n",
      "COMPANY_NAME                                  0\n",
      "COMPANY_STATUS                                0\n",
      "COMPANY_CLASS                                 6\n",
      "COMPANY_CATEGORY                              6\n",
      "COMPANY_SUB_CATEGORY                          6\n",
      "DATE_OF_REGISTRATION                         12\n",
      "REGISTERED_STATE                              0\n",
      "AUTHORIZED_CAP                                0\n",
      "PAIDUP_CAPITAL                                0\n",
      "INDUSTRIAL_CLASS                              0\n",
      "PRINCIPAL_BUSINESS_ACTIVITY_AS_PER_CIN        0\n",
      "REGISTRAR_OF_COMPANIES                      335\n",
      "EMAIL_ADDR                                23588\n",
      "LATEST_YEAR_ANNUAL_RETURN                 39918\n",
      "LATEST_YEAR_FINANCIAL_STATEMENT           39928\n",
      "dtype: int64\n"
     ]
    }
   ],
   "source": [
    "total_rows = len(df)\n",
    "missing_values_count = total_rows - df.count()\n",
    "print(missing_values_count)"
   ]
  },
  {
   "cell_type": "code",
   "execution_count": 10,
   "id": "971b4674",
   "metadata": {},
   "outputs": [],
   "source": [
    "columns_to_fill = ['COMPANY_CLASS', 'COMPANY_CATEGORY', 'COMPANY_SUB_CATEGORY', 'DATE_OF_REGISTRATION','LATEST_YEAR_ANNUAL_RETURN','LATEST_YEAR_FINANCIAL_STATEMENT']"
   ]
  },
  {
   "cell_type": "code",
   "execution_count": 11,
   "id": "235813bd",
   "metadata": {},
   "outputs": [],
   "source": [
    "modes = df[columns_to_fill].mode().iloc[0]\n",
    "for column in columns_to_fill:\n",
    "    df[column].fillna(modes[column], inplace=True)"
   ]
  },
  {
   "cell_type": "code",
   "execution_count": 12,
   "id": "7d087b71",
   "metadata": {},
   "outputs": [],
   "source": [
    "df.drop(['EMAIL_ADDR'],axis=1,inplace=True)"
   ]
  },
  {
   "cell_type": "code",
   "execution_count": 13,
   "id": "c8b6a445",
   "metadata": {},
   "outputs": [],
   "source": [
    "df.dropna(subset=['REGISTRAR_OF_COMPANIES'],inplace=True)"
   ]
  },
  {
   "cell_type": "code",
   "execution_count": 14,
   "id": "a6ac1128",
   "metadata": {},
   "outputs": [
    {
     "data": {
      "text/plain": [
       "CORPORATE_IDENTIFICATION_NUMBER           0\n",
       "COMPANY_NAME                              0\n",
       "COMPANY_STATUS                            0\n",
       "COMPANY_CLASS                             0\n",
       "COMPANY_CATEGORY                          0\n",
       "COMPANY_SUB_CATEGORY                      0\n",
       "DATE_OF_REGISTRATION                      0\n",
       "REGISTERED_STATE                          0\n",
       "AUTHORIZED_CAP                            0\n",
       "PAIDUP_CAPITAL                            0\n",
       "INDUSTRIAL_CLASS                          0\n",
       "PRINCIPAL_BUSINESS_ACTIVITY_AS_PER_CIN    0\n",
       "REGISTRAR_OF_COMPANIES                    0\n",
       "LATEST_YEAR_ANNUAL_RETURN                 0\n",
       "LATEST_YEAR_FINANCIAL_STATEMENT           0\n",
       "dtype: int64"
      ]
     },
     "execution_count": 14,
     "metadata": {},
     "output_type": "execute_result"
    }
   ],
   "source": [
    "df.isna().sum()"
   ]
  },
  {
   "cell_type": "code",
   "execution_count": 15,
   "id": "0e6b564b",
   "metadata": {},
   "outputs": [
    {
     "data": {
      "text/plain": [
       "array(['Private', 'Public', 'Private(One Person Company)'], dtype=object)"
      ]
     },
     "execution_count": 15,
     "metadata": {},
     "output_type": "execute_result"
    }
   ],
   "source": [
    "df['COMPANY_CLASS'].unique()"
   ]
  },
  {
   "cell_type": "code",
   "execution_count": 16,
   "id": "89db01aa",
   "metadata": {
    "scrolled": false
   },
   "outputs": [
    {
     "data": {
      "text/plain": [
       "REGISTRAR_OF_COMPANIES  COMPANY_CLASS              \n",
       "RoC-Ahmedabad           Private                        86338\n",
       "                        Public                          8592\n",
       "                        Private(One Person Company)      539\n",
       "RoC-Bangalore           Private                            1\n",
       "RoC-Delhi               Private                            1\n",
       "RoC-Goa                 Private                            6\n",
       "                        Public                             1\n",
       "RoC-Gwalior             Private                            3\n",
       "RoC-Jaipur              Private                            4\n",
       "                        Public                             1\n",
       "RoC-Jammu               Private                            1\n",
       "RoC-Kolkata             Public                             2\n",
       "RoC-Mumbai              Public                             2\n",
       "Name: count, dtype: int64"
      ]
     },
     "execution_count": 16,
     "metadata": {},
     "output_type": "execute_result"
    }
   ],
   "source": [
    "statistics = df.groupby('REGISTRAR_OF_COMPANIES')['COMPANY_CLASS'].value_counts()\n",
    "statistics"
   ]
  }
 ],
 "metadata": {
  "kernelspec": {
   "display_name": "Python 3 (ipykernel)",
   "language": "python",
   "name": "python3"
  },
  "language_info": {
   "codemirror_mode": {
    "name": "ipython",
    "version": 3
   },
   "file_extension": ".py",
   "mimetype": "text/x-python",
   "name": "python",
   "nbconvert_exporter": "python",
   "pygments_lexer": "ipython3",
   "version": "3.11.5"
  }
 },
 "nbformat": 4,
 "nbformat_minor": 5
}
