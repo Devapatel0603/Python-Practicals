{
 "cells": [
  {
   "cell_type": "code",
   "execution_count": 1,
   "id": "e9437c82",
   "metadata": {},
   "outputs": [],
   "source": [
    "import pandas as pd\n",
    "from lxml import html\n",
    "import requests"
   ]
  },
  {
   "cell_type": "code",
   "execution_count": 2,
   "id": "232657b1",
   "metadata": {},
   "outputs": [],
   "source": [
    "response = requests.get(\"https://www.cricbuzz.com/\")"
   ]
  },
  {
   "cell_type": "code",
   "execution_count": 3,
   "id": "3725d7ef",
   "metadata": {},
   "outputs": [],
   "source": [
    "tree = html.fromstring(response.content)"
   ]
  },
  {
   "cell_type": "code",
   "execution_count": 4,
   "id": "3515ad30",
   "metadata": {},
   "outputs": [
    {
     "data": {
      "text/plain": [
       "'12th Match • ICC Cricket World Cup 2023'"
      ]
     },
     "execution_count": 4,
     "metadata": {},
     "output_type": "execute_result"
    }
   ],
   "source": [
    "match_number = tree.xpath('//*[@id=\"match_menu_container\"]/div/div/ul/li[1]/a/div[1]/div[1]')[0].text_content()\n",
    "match_number"
   ]
  },
  {
   "cell_type": "code",
   "execution_count": 5,
   "id": "3e2cead7",
   "metadata": {},
   "outputs": [
    {
     "data": {
      "text/plain": [
       "'India won by 7 wkts'"
      ]
     },
     "execution_count": 5,
     "metadata": {},
     "output_type": "execute_result"
    }
   ],
   "source": [
    "toss_status = tree.xpath('//*[@id=\"match_menu_container\"]/div/div/ul/li[1]/a/div[2]/div[3]')[0].text_content()\n",
    "toss_status"
   ]
  },
  {
   "cell_type": "code",
   "execution_count": 6,
   "id": "f1f74ae8",
   "metadata": {},
   "outputs": [
    {
     "data": {
      "text/plain": [
       "'Kusal Mendis is set to replace Dasun Shanaka as the interim captain for the World Cup'"
      ]
     },
     "execution_count": 6,
     "metadata": {},
     "output_type": "execute_result"
    }
   ],
   "source": [
    "blog_title = tree.xpath('//*[@id=\"page-wrapper\"]/div[6]/div[2]/div[3]/div[2]')[0].text_content()\n",
    "blog_title"
   ]
  }
 ],
 "metadata": {
  "kernelspec": {
   "display_name": "Python 3 (ipykernel)",
   "language": "python",
   "name": "python3"
  },
  "language_info": {
   "codemirror_mode": {
    "name": "ipython",
    "version": 3
   },
   "file_extension": ".py",
   "mimetype": "text/x-python",
   "name": "python",
   "nbconvert_exporter": "python",
   "pygments_lexer": "ipython3",
   "version": "3.11.5"
  }
 },
 "nbformat": 4,
 "nbformat_minor": 5
}
