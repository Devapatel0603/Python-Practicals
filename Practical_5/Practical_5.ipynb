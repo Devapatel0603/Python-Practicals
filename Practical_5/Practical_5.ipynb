{
 "cells": [
  {
   "cell_type": "code",
   "execution_count": 1,
   "id": "e4ed0c21",
   "metadata": {},
   "outputs": [],
   "source": [
    "import pandas as pd\n",
    "import re"
   ]
  },
  {
   "cell_type": "code",
   "execution_count": 2,
   "id": "60ff90c5",
   "metadata": {},
   "outputs": [],
   "source": [
    "data = {\n",
    "    \"Name\": [\"ABC\", \"DEF\", \"GHI\", \"JKL\", \"MNO\", \"PQR\", \"STU\", \"VWX\", \"YZA\", \"BCD\"],\n",
    "    \"Enrollment No.\": [101, 102, 103, 104, 105, 106, 107, 108, 109, 110],\n",
    "    \"Branch\": [\"CS\", \"EE\", \"ME\", \"CE\", \"CS\", \"EE\", \"ME\", \"CE\", \"CS\", \"EE\"],\n",
    "    \"Semester\": [3, 4, 3, 4, 3, 4, 3, 4, 3, 4],\n",
    "    \"Email\": [\"abc@outlook.com\", \"def.email\", \"ghi@outlook.com\", \"jkl@google.com\", \"mno.com\", \"pqr@gtu.com\", \"stu@google.com\", \"vwx@yahoo.com\", \"yza@google.com\", \"bcd@google.com\"],\n",
    "    \"Phone\": [\"1234567890\", \"123456987\", \"2345678901\", \"3456789012\", \"4567890123\", \"58901234\", \"6789012345\", \"7890123456\", \"8901234567\", \"9012345678\"]\n",
    "}"
   ]
  },
  {
   "cell_type": "code",
   "execution_count": 3,
   "id": "f4e789ae",
   "metadata": {},
   "outputs": [],
   "source": [
    "df = pd.DataFrame(data)"
   ]
  },
  {
   "cell_type": "code",
   "execution_count": 4,
   "id": "a3234822",
   "metadata": {},
   "outputs": [
    {
     "data": {
      "text/html": [
       "<div>\n",
       "<style scoped>\n",
       "    .dataframe tbody tr th:only-of-type {\n",
       "        vertical-align: middle;\n",
       "    }\n",
       "\n",
       "    .dataframe tbody tr th {\n",
       "        vertical-align: top;\n",
       "    }\n",
       "\n",
       "    .dataframe thead th {\n",
       "        text-align: right;\n",
       "    }\n",
       "</style>\n",
       "<table border=\"1\" class=\"dataframe\">\n",
       "  <thead>\n",
       "    <tr style=\"text-align: right;\">\n",
       "      <th></th>\n",
       "      <th>Name</th>\n",
       "      <th>Enrollment No.</th>\n",
       "      <th>Branch</th>\n",
       "      <th>Semester</th>\n",
       "      <th>Email</th>\n",
       "      <th>Phone</th>\n",
       "    </tr>\n",
       "  </thead>\n",
       "  <tbody>\n",
       "    <tr>\n",
       "      <th>0</th>\n",
       "      <td>ABC</td>\n",
       "      <td>101</td>\n",
       "      <td>CS</td>\n",
       "      <td>3</td>\n",
       "      <td>abc@outlook.com</td>\n",
       "      <td>1234567890</td>\n",
       "    </tr>\n",
       "    <tr>\n",
       "      <th>1</th>\n",
       "      <td>DEF</td>\n",
       "      <td>102</td>\n",
       "      <td>EE</td>\n",
       "      <td>4</td>\n",
       "      <td>def.email</td>\n",
       "      <td>123456987</td>\n",
       "    </tr>\n",
       "    <tr>\n",
       "      <th>2</th>\n",
       "      <td>GHI</td>\n",
       "      <td>103</td>\n",
       "      <td>ME</td>\n",
       "      <td>3</td>\n",
       "      <td>ghi@outlook.com</td>\n",
       "      <td>2345678901</td>\n",
       "    </tr>\n",
       "    <tr>\n",
       "      <th>3</th>\n",
       "      <td>JKL</td>\n",
       "      <td>104</td>\n",
       "      <td>CE</td>\n",
       "      <td>4</td>\n",
       "      <td>jkl@google.com</td>\n",
       "      <td>3456789012</td>\n",
       "    </tr>\n",
       "    <tr>\n",
       "      <th>4</th>\n",
       "      <td>MNO</td>\n",
       "      <td>105</td>\n",
       "      <td>CS</td>\n",
       "      <td>3</td>\n",
       "      <td>mno.com</td>\n",
       "      <td>4567890123</td>\n",
       "    </tr>\n",
       "    <tr>\n",
       "      <th>5</th>\n",
       "      <td>PQR</td>\n",
       "      <td>106</td>\n",
       "      <td>EE</td>\n",
       "      <td>4</td>\n",
       "      <td>pqr@gtu.com</td>\n",
       "      <td>58901234</td>\n",
       "    </tr>\n",
       "    <tr>\n",
       "      <th>6</th>\n",
       "      <td>STU</td>\n",
       "      <td>107</td>\n",
       "      <td>ME</td>\n",
       "      <td>3</td>\n",
       "      <td>stu@google.com</td>\n",
       "      <td>6789012345</td>\n",
       "    </tr>\n",
       "    <tr>\n",
       "      <th>7</th>\n",
       "      <td>VWX</td>\n",
       "      <td>108</td>\n",
       "      <td>CE</td>\n",
       "      <td>4</td>\n",
       "      <td>vwx@yahoo.com</td>\n",
       "      <td>7890123456</td>\n",
       "    </tr>\n",
       "    <tr>\n",
       "      <th>8</th>\n",
       "      <td>YZA</td>\n",
       "      <td>109</td>\n",
       "      <td>CS</td>\n",
       "      <td>3</td>\n",
       "      <td>yza@google.com</td>\n",
       "      <td>8901234567</td>\n",
       "    </tr>\n",
       "    <tr>\n",
       "      <th>9</th>\n",
       "      <td>BCD</td>\n",
       "      <td>110</td>\n",
       "      <td>EE</td>\n",
       "      <td>4</td>\n",
       "      <td>bcd@google.com</td>\n",
       "      <td>9012345678</td>\n",
       "    </tr>\n",
       "  </tbody>\n",
       "</table>\n",
       "</div>"
      ],
      "text/plain": [
       "  Name  Enrollment No. Branch  Semester            Email       Phone\n",
       "0  ABC             101     CS         3  abc@outlook.com  1234567890\n",
       "1  DEF             102     EE         4        def.email   123456987\n",
       "2  GHI             103     ME         3  ghi@outlook.com  2345678901\n",
       "3  JKL             104     CE         4   jkl@google.com  3456789012\n",
       "4  MNO             105     CS         3          mno.com  4567890123\n",
       "5  PQR             106     EE         4      pqr@gtu.com    58901234\n",
       "6  STU             107     ME         3   stu@google.com  6789012345\n",
       "7  VWX             108     CE         4    vwx@yahoo.com  7890123456\n",
       "8  YZA             109     CS         3   yza@google.com  8901234567\n",
       "9  BCD             110     EE         4   bcd@google.com  9012345678"
      ]
     },
     "execution_count": 4,
     "metadata": {},
     "output_type": "execute_result"
    }
   ],
   "source": [
    "df"
   ]
  },
  {
   "cell_type": "code",
   "execution_count": 5,
   "id": "dbf839cb",
   "metadata": {},
   "outputs": [],
   "source": [
    "def valid_email(email):\n",
    "  mail_pattern = r'^[\\w]+@[\\w]+\\.(?:in|com)$'\n",
    "  return re.match(mail_pattern, email)"
   ]
  },
  {
   "cell_type": "code",
   "execution_count": 6,
   "id": "fb3c3197",
   "metadata": {},
   "outputs": [],
   "source": [
    "invalid_mail = []\n",
    "for mail in df['Email']:\n",
    "  if not valid_email(mail):\n",
    "    record = df.loc[df['Email'] == mail]\n",
    "    enr_no = record['Enrollment No.'].values[0]\n",
    "    invalid_mail.append((enr_no, mail))"
   ]
  },
  {
   "cell_type": "code",
   "execution_count": 7,
   "id": "680b1c4e",
   "metadata": {},
   "outputs": [
    {
     "data": {
      "text/plain": [
       "[(102, 'def.email'), (105, 'mno.com')]"
      ]
     },
     "execution_count": 7,
     "metadata": {},
     "output_type": "execute_result"
    }
   ],
   "source": [
    "invalid_mail"
   ]
  },
  {
   "cell_type": "code",
   "execution_count": 8,
   "id": "89429496",
   "metadata": {},
   "outputs": [],
   "source": [
    "def valid_phone(phone):\n",
    "  phone_pattern = r'^[1-9]\\d{9}$'\n",
    "  return re.match(phone_pattern,phone)"
   ]
  },
  {
   "cell_type": "code",
   "execution_count": 9,
   "id": "386e3cb5",
   "metadata": {},
   "outputs": [],
   "source": [
    "invalid_phone = []\n",
    "for phone in df['Phone']:\n",
    "  if not valid_phone(phone):\n",
    "    record = df.loc[df['Phone'] == phone]\n",
    "    enr_no = record['Enrollment No.'].values[0]\n",
    "    invalid_phone.append((enr_no, phone))"
   ]
  },
  {
   "cell_type": "code",
   "execution_count": 10,
   "id": "49baeebd",
   "metadata": {},
   "outputs": [
    {
     "data": {
      "text/plain": [
       "[(102, '123456987'), (106, '58901234')]"
      ]
     },
     "execution_count": 10,
     "metadata": {},
     "output_type": "execute_result"
    }
   ],
   "source": [
    "invalid_phone"
   ]
  }
 ],
 "metadata": {
  "kernelspec": {
   "display_name": "Python 3 (ipykernel)",
   "language": "python",
   "name": "python3"
  },
  "language_info": {
   "codemirror_mode": {
    "name": "ipython",
    "version": 3
   },
   "file_extension": ".py",
   "mimetype": "text/x-python",
   "name": "python",
   "nbconvert_exporter": "python",
   "pygments_lexer": "ipython3",
   "version": "3.11.5"
  }
 },
 "nbformat": 4,
 "nbformat_minor": 5
}
